{
 "cells": [
  {
   "cell_type": "markdown",
   "id": "200ff2c3",
   "metadata": {},
   "source": [
    "<h2>Location Tracking Using ip2geotools</h2>\n",
    "<hr>"
   ]
  },
  {
   "cell_type": "markdown",
   "id": "de08417d",
   "metadata": {},
   "source": [
    "<img src=\"../resources/plan.png\" alt=\"plan\" width=\"750px\" height=\"750px\"/>"
   ]
  },
  {
   "cell_type": "code",
   "execution_count": 5,
   "id": "c8d44d52",
   "metadata": {},
   "outputs": [],
   "source": [
    "import random\n",
    "import socket\n",
    "from requests import get\n",
    "from ip2geotools.databases.noncommercial import DbIpCity as locDb # pip install ip2geotools"
   ]
  },
  {
   "cell_type": "code",
   "execution_count": 6,
   "id": "dfa0e7a6",
   "metadata": {},
   "outputs": [],
   "source": [
    "def createModel(db, ip): # create a response model holding attributes and methods of location\n",
    "    model = db.get(ip, api_key=\"free\")\n",
    "    return model"
   ]
  },
  {
   "cell_type": "code",
   "execution_count": 7,
   "id": "d98c946d",
   "metadata": {},
   "outputs": [],
   "source": [
    "def extractModel(model): # extract and rendering attributes of your current response model\n",
    "    print()\n",
    "    print(\"Location Data\")\n",
    "    print(\"-------------\")\n",
    "    print(f'IP: {model.ip_address}')\n",
    "    print(f'Address: {model.city}, {model.region}, {model.country}')\n",
    "    print(f'Location: ({model.latitude}, {model.longitude})')\n",
    "    print()"
   ]
  },
  {
   "cell_type": "markdown",
   "id": "f45656c1",
   "metadata": {},
   "source": [
    "<u><h3>In case of keyboard entered IP</h3></u>"
   ]
  },
  {
   "cell_type": "code",
   "execution_count": 27,
   "id": "1dde9a50",
   "metadata": {},
   "outputs": [
    {
     "name": "stdout",
     "output_type": "stream",
     "text": [
      "Enter any IP address: c499:cfa8:cbc5:a6d1:2e02:35bf:b80f:d9c9\n",
      "\n",
      "Location Data\n",
      "-------------\n",
      "IP: c499:cfa8:cbc5:a6d1:2e02:35bf:b80f:d9c9\n",
      "Address: Murten/Morat, Fribourg, CH\n",
      "Location: (46.9254349, 7.1153109)\n",
      "\n"
     ]
    }
   ],
   "source": [
    "ip = input(\"Enter any IP address: \") # ipv4 or ipv6\n",
    "response = createModel(locDb, ip)\n",
    "extractModel(response)"
   ]
  },
  {
   "cell_type": "markdown",
   "id": "465cdd21",
   "metadata": {},
   "source": [
    "<u><h3>In case of user's public IP</h3></u>"
   ]
  },
  {
   "cell_type": "code",
   "execution_count": 10,
   "id": "94285d00",
   "metadata": {},
   "outputs": [
    {
     "name": "stdout",
     "output_type": "stream",
     "text": [
      "\n",
      "Location Data\n",
      "-------------\n",
      "IP: 212.104.237.191\n",
      "Address: Gampaha, Western, LK\n",
      "Location: (7.0925595, 79.9951396)\n",
      "\n"
     ]
    }
   ],
   "source": [
    "ip = get('https://api.ipify.org').text # getting your current device public ip\n",
    "response = createModel(locDb, ip)\n",
    "extractModel(response)"
   ]
  },
  {
   "cell_type": "markdown",
   "id": "a286c7bb",
   "metadata": {},
   "source": [
    "<u><h3>In case of keyboard entered URL</h3></u>"
   ]
  },
  {
   "cell_type": "code",
   "execution_count": 12,
   "id": "b6f26cc2",
   "metadata": {},
   "outputs": [
    {
     "name": "stdout",
     "output_type": "stream",
     "text": [
      "Enter the URL: www.wikipedia.org\n",
      "\n",
      "Location Data\n",
      "-------------\n",
      "IP: 103.102.166.224\n",
      "Address: San Francisco (Financial District), California, US\n",
      "Location: (37.7939411, -122.3963114)\n",
      "\n"
     ]
    }
   ],
   "source": [
    "url = input(\"Enter the URL: \")\n",
    "ip = socket.gethostbyname(url) # retrieving the ip address corresponds to entered url. (url must be valid)\n",
    "response = createModel(locDb, ip)\n",
    "extractModel(response)"
   ]
  },
  {
   "cell_type": "markdown",
   "id": "2b567abc",
   "metadata": {},
   "source": [
    "<u><h3>In case of random IP</h3></u>"
   ]
  },
  {
   "cell_type": "code",
   "execution_count": 25,
   "id": "e4577d75",
   "metadata": {},
   "outputs": [
    {
     "name": "stdout",
     "output_type": "stream",
     "text": [
      "105.24.233.68\n"
     ]
    }
   ],
   "source": [
    "# generating random ipv4 ip using built-in random library\n",
    "\n",
    "ip = f'{random.randint(0, 255)}.{random.randint(0, 255)}.{random.randint(0, 255)}.{random.randint(0, 255)}'\n",
    "print(ip)"
   ]
  },
  {
   "cell_type": "code",
   "execution_count": 26,
   "id": "f62262af",
   "metadata": {},
   "outputs": [
    {
     "name": "stdout",
     "output_type": "stream",
     "text": [
      "\n",
      "Location Data\n",
      "-------------\n",
      "IP: 105.24.233.68\n",
      "Address: Quatre Bornes (Ebene CyberCity), Plaines Wilhems, MU\n",
      "Location: (-20.25680885, 57.48523482722618)\n",
      "\n"
     ]
    }
   ],
   "source": [
    "response = createModel(locDb, ip)\n",
    "extractModel(response)"
   ]
  },
  {
   "cell_type": "markdown",
   "id": "49d95f4a",
   "metadata": {},
   "source": [
    "<u><h3>References</h3></u>\n",
    "<ul>\n",
    "    <li><a href=\"https://pypi.org/project/ip2geotools/\">Pypi</a></li>\n",
    "    <li><a href=\"https://dspace.vutbr.cz/bitstream/handle/11012/200511/484-eeict_1.pdf?sequence=1\">Paper</a></li>\n",
    "    <li><a href=\"https://commentpicker.com/ip-address-generator.php\">IP address generator</a></li>\n",
    "    <li><a href=\"https://www.whatismyip.com/my-ip-information/\">My IP information</a></li>\n",
    "</ul>"
   ]
  },
  {
   "cell_type": "code",
   "execution_count": null,
   "id": "bf1c6b7c",
   "metadata": {},
   "outputs": [],
   "source": []
  }
 ],
 "metadata": {
  "kernelspec": {
   "display_name": "Python 3 (ipykernel)",
   "language": "python",
   "name": "python3"
  },
  "language_info": {
   "codemirror_mode": {
    "name": "ipython",
    "version": 3
   },
   "file_extension": ".py",
   "mimetype": "text/x-python",
   "name": "python",
   "nbconvert_exporter": "python",
   "pygments_lexer": "ipython3",
   "version": "3.7.2"
  }
 },
 "nbformat": 4,
 "nbformat_minor": 5
}
